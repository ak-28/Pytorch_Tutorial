{
 "cells": [
  {
   "cell_type": "markdown",
   "id": "490a8996",
   "metadata": {},
   "source": [
    "# Imports"
   ]
  },
  {
   "cell_type": "code",
   "execution_count": 1,
   "id": "7bdc7e02",
   "metadata": {},
   "outputs": [],
   "source": [
    "import numpy as np\n",
    "import pandas as pd\n",
    "\n",
    "import torch\n",
    "import torch.nn as nn\n",
    "from torch.utils.data import TensorDataset, DataLoader\n",
    "import torch.optim as optim\n",
    "\n",
    "from sklearn.model_selection import train_test_split"
   ]
  },
  {
   "cell_type": "markdown",
   "id": "21431ae2",
   "metadata": {},
   "source": [
    "# Linear"
   ]
  },
  {
   "cell_type": "code",
   "execution_count": null,
   "id": "c5974bfb",
   "metadata": {},
   "outputs": [],
   "source": [
    "# output=XW^t + b\n",
    "\n",
    "# X: Input tensor of shape (batch_size, in_features)\n",
    "# W: Weight matrix of shape (out_features, in_features)\n",
    "# b: Bias vector of shape (out_features,) (optional)\n",
    "\n",
    "# Output shape: (batch_size, out_features)\n",
    "\n",
    "# Input (batch_size x in_features)  →  Linear Layer  →  Output (batch_size x out_features)"
   ]
  },
  {
   "cell_type": "code",
   "execution_count": 3,
   "id": "f081e097",
   "metadata": {},
   "outputs": [],
   "source": [
    "layer = nn.Linear(4,2)\n",
    "\n",
    "tensor = torch.randn(3,4)\n",
    "output = layer(tensor)"
   ]
  },
  {
   "cell_type": "code",
   "execution_count": 7,
   "id": "f86bc9e3",
   "metadata": {},
   "outputs": [
    {
     "data": {
      "text/plain": [
       "tensor([[ 1.8879, -1.8185, -1.2606, -0.6749],\n",
       "        [ 1.6505, -0.7917, -0.4010, -0.8471],\n",
       "        [ 1.4576,  0.1465, -0.5967,  0.6151]])"
      ]
     },
     "execution_count": 7,
     "metadata": {},
     "output_type": "execute_result"
    }
   ],
   "source": [
    "tensor"
   ]
  },
  {
   "cell_type": "code",
   "execution_count": 6,
   "id": "8c963fea",
   "metadata": {},
   "outputs": [
    {
     "data": {
      "text/plain": [
       "Parameter containing:\n",
       "tensor([[-0.2526,  0.1085, -0.4470, -0.0480],\n",
       "        [-0.2012, -0.2811,  0.2503, -0.1745]], requires_grad=True)"
      ]
     },
     "execution_count": 6,
     "metadata": {},
     "output_type": "execute_result"
    }
   ],
   "source": [
    "layer.weight"
   ]
  },
  {
   "cell_type": "code",
   "execution_count": 8,
   "id": "f745e68c",
   "metadata": {},
   "outputs": [
    {
     "data": {
      "text/plain": [
       "Parameter containing:\n",
       "tensor([-0.1905, -0.1388], requires_grad=True)"
      ]
     },
     "execution_count": 8,
     "metadata": {},
     "output_type": "execute_result"
    }
   ],
   "source": [
    "layer.bias"
   ]
  },
  {
   "cell_type": "code",
   "execution_count": 4,
   "id": "9e0f9ae6",
   "metadata": {},
   "outputs": [
    {
     "data": {
      "text/plain": [
       "tensor([[-0.2687, -0.2053],\n",
       "        [-0.4734, -0.2009],\n",
       "        [-0.3056, -0.7300]], grad_fn=<AddmmBackward0>)"
      ]
     },
     "execution_count": 4,
     "metadata": {},
     "output_type": "execute_result"
    }
   ],
   "source": [
    "output"
   ]
  },
  {
   "cell_type": "code",
   "execution_count": 2,
   "id": "07b1d8f2",
   "metadata": {},
   "outputs": [],
   "source": [
    "# Create synthetic regression dataset (1000 samples, 3 features)\n",
    "np.random.seed(0)\n",
    "X = np.random.rand(1000, 3) * [2000, 5, 50]\n",
    "y = 50000 + (X[:, 0] * 100) + (X[:, 1] * 5000) - (X[:, 2] * 1000)\n",
    "y = y.reshape(-1, 1)\n",
    "\n",
    "\n",
    "X_train, X_test, y_train, y_test = train_test_split(X,y, test_size=0.33,random_state=42)\n",
    "\n",
    "X_train = torch.tensor(X_train, dtype=torch.float32)\n",
    "X_test = torch.tensor(X_test, dtype=torch.float32)\n",
    "y_train = torch.tensor(y_train, dtype=torch.float32)\n",
    "y_test = torch.tensor(y_test, dtype=torch.float32)\n",
    "\n",
    "train_dataset = TensorDataset(X_train, y_train)\n",
    "train_loader = DataLoader(train_dataset, batch_size=32, shuffle=True)   "
   ]
  },
  {
   "cell_type": "code",
   "execution_count": 3,
   "id": "163337f2",
   "metadata": {},
   "outputs": [],
   "source": [
    "class HousePriceMlp(nn.Module):\n",
    "    def __init__(self):\n",
    "        super().__init__()\n",
    "        self.model = nn.Sequential(\n",
    "            nn.Linear(3, 16),\n",
    "            nn.ReLU(),\n",
    "            nn.Linear(16,8),\n",
    "            nn.ReLU(),\n",
    "            nn.Linear(8,1)\n",
    "        )\n",
    "    \n",
    "    def forward(self, x):\n",
    "        return self.model(x)\n",
    "    \n",
    "model = HousePriceMlp()\n",
    "\n",
    "criterion = nn.MSELoss()\n",
    "optimizer = optim.Adam(model.parameters(), lr=0.01)"
   ]
  },
  {
   "cell_type": "code",
   "execution_count": 4,
   "id": "1616bf28",
   "metadata": {},
   "outputs": [],
   "source": [
    "for epoch in range(1000):\n",
    "    for x_batch, y_batch in train_loader:\n",
    "        optimizer.zero_grad()\n",
    "        predictions = model(x_batch)\n",
    "        loss = criterion(predictions, y_batch)\n",
    "        loss.backward()\n",
    "        optimizer.step()"
   ]
  },
  {
   "cell_type": "code",
   "execution_count": 19,
   "id": "106ecdac",
   "metadata": {},
   "outputs": [
    {
     "data": {
      "text/plain": [
       "torch.float32"
      ]
     },
     "execution_count": 19,
     "metadata": {},
     "output_type": "execute_result"
    }
   ],
   "source": [
    "y_batch.dtype"
   ]
  },
  {
   "cell_type": "code",
   "execution_count": 5,
   "id": "4900ed24",
   "metadata": {},
   "outputs": [
    {
     "name": "stdout",
     "output_type": "stream",
     "text": [
      "test loss: 28489.3515625\n"
     ]
    }
   ],
   "source": [
    "model.eval()\n",
    "with torch.no_grad():\n",
    "    predictions = model(X_test)\n",
    "    test_loss = criterion(predictions, y_test)\n",
    "    print(f\"test loss: {test_loss.item()}\")"
   ]
  },
  {
   "cell_type": "code",
   "execution_count": 11,
   "id": "ff786e5d",
   "metadata": {},
   "outputs": [
    {
     "name": "stderr",
     "output_type": "stream",
     "text": [
      "/tmp/ipykernel_66008/3355736690.py:1: UserWarning: The .grad attribute of a Tensor that is not a leaf Tensor is being accessed. Its .grad attribute won't be populated during autograd.backward(). If you indeed want the .grad field to be populated for a non-leaf Tensor, use .retain_grad() on the non-leaf Tensor. If you access the non-leaf Tensor by mistake, make sure you access the leaf Tensor instead. See github.com/pytorch/pytorch/pull/30531 for more informations. (Triggered internally at /pytorch/build/aten/src/ATen/core/TensorBody.h:489.)\n",
      "  loss.grad\n"
     ]
    }
   ],
   "source": [
    "loss.grad"
   ]
  },
  {
   "cell_type": "markdown",
   "id": "0736f849",
   "metadata": {},
   "source": [
    "# Convolution Layer"
   ]
  },
  {
   "cell_type": "code",
   "execution_count": null,
   "id": "7dea6aa9",
   "metadata": {},
   "outputs": [],
   "source": [
    "# output = (input_size + 2*padding - kernel_size)/stride + 1\n",
    "\n",
    "# | Concept       | Meaning                       |\n",
    "# | ------------- | ----------------------------- |\n",
    "# | Kernel        | Small sliding filter          |\n",
    "# | Feature map   | Output of the convolution     |\n",
    "# | Stride        | Step size of the kernel       |\n",
    "# | Padding       | Controls output size          |\n",
    "# | in\\_channels  | Input depth (e.g., 3 for RGB) |\n",
    "# | out\\_channels | Number of filters to learn    |"
   ]
  },
  {
   "cell_type": "code",
   "execution_count": 13,
   "id": "aab02be8",
   "metadata": {},
   "outputs": [],
   "source": [
    "layer = nn.Conv2d(in_channels=3, out_channels=16, kernel_size=3, stride=1, padding=1)\n",
    "\n",
    "x = torch.rand(1,3,32,32)\n",
    "y = layer(x)"
   ]
  },
  {
   "cell_type": "code",
   "execution_count": 16,
   "id": "f8a3d866",
   "metadata": {},
   "outputs": [
    {
     "data": {
      "text/plain": [
       "torch.Size([1, 16, 32, 32])"
      ]
     },
     "execution_count": 16,
     "metadata": {},
     "output_type": "execute_result"
    }
   ],
   "source": [
    "y.shape"
   ]
  },
  {
   "cell_type": "code",
   "execution_count": null,
   "id": "81ea5e8c",
   "metadata": {},
   "outputs": [],
   "source": []
  }
 ],
 "metadata": {
  "kernelspec": {
   "display_name": "ai",
   "language": "python",
   "name": "python3"
  },
  "language_info": {
   "codemirror_mode": {
    "name": "ipython",
    "version": 3
   },
   "file_extension": ".py",
   "mimetype": "text/x-python",
   "name": "python",
   "nbconvert_exporter": "python",
   "pygments_lexer": "ipython3",
   "version": "3.9.23"
  }
 },
 "nbformat": 4,
 "nbformat_minor": 5
}
